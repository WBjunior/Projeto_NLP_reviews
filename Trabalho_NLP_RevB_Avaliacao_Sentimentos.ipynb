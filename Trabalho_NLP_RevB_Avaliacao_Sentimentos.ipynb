{
  "cells": [
    {
      "cell_type": "markdown",
      "metadata": {
        "id": "i4eQQ4Acr494"
      },
      "source": [
        "# Bibliotecas"
      ]
    },
    {
      "cell_type": "code",
      "execution_count": null,
      "metadata": {
        "id": "cSBJ6PO-slLo"
      },
      "outputs": [],
      "source": [
        "import locale\n",
        "def getpreferredencoding(do_setlocale = True):\n",
        "    return \"UTF-8\"\n",
        "locale.getpreferredencoding = getpreferredencoding"
      ]
    },
    {
      "cell_type": "code",
      "execution_count": null,
      "metadata": {
        "colab": {
          "base_uri": "https://localhost:8080/"
        },
        "id": "o-HkbUs8rhwx",
        "outputId": "ca6b1f03-fd81-4b0d-853b-6bf1bfb01f4f"
      },
      "outputs": [
        {
          "name": "stdout",
          "output_type": "stream",
          "text": [
            "Looking in indexes: https://pypi.org/simple, https://us-python.pkg.dev/colab-wheels/public/simple/\n",
            "Collecting spacy==3.5\n",
            "  Downloading spacy-3.5.0-cp310-cp310-manylinux_2_17_x86_64.manylinux2014_x86_64.whl (6.6 MB)\n",
            "\u001b[2K     \u001b[90m━━━━━━━━━━━━━━━━━━━━━━━━━━━━━━━━━━━━━━━━\u001b[0m \u001b[32m6.6/6.6 MB\u001b[0m \u001b[31m67.5 MB/s\u001b[0m eta \u001b[36m0:00:00\u001b[0m\n",
            "\u001b[?25hRequirement already satisfied: requests<3.0.0,>=2.13.0 in /usr/local/lib/python3.10/dist-packages (from spacy==3.5) (2.27.1)\n",
            "Requirement already satisfied: cymem<2.1.0,>=2.0.2 in /usr/local/lib/python3.10/dist-packages (from spacy==3.5) (2.0.7)\n",
            "Requirement already satisfied: preshed<3.1.0,>=3.0.2 in /usr/local/lib/python3.10/dist-packages (from spacy==3.5) (3.0.8)\n",
            "Requirement already satisfied: typer<0.8.0,>=0.3.0 in /usr/local/lib/python3.10/dist-packages (from spacy==3.5) (0.7.0)\n",
            "Requirement already satisfied: packaging>=20.0 in /usr/local/lib/python3.10/dist-packages (from spacy==3.5) (23.1)\n",
            "Requirement already satisfied: jinja2 in /usr/local/lib/python3.10/dist-packages (from spacy==3.5) (3.1.2)\n",
            "Requirement already satisfied: tqdm<5.0.0,>=4.38.0 in /usr/local/lib/python3.10/dist-packages (from spacy==3.5) (4.65.0)\n",
            "Requirement already satisfied: setuptools in /usr/local/lib/python3.10/dist-packages (from spacy==3.5) (67.7.2)\n",
            "Requirement already satisfied: catalogue<2.1.0,>=2.0.6 in /usr/local/lib/python3.10/dist-packages (from spacy==3.5) (2.0.8)\n",
            "Requirement already satisfied: langcodes<4.0.0,>=3.2.0 in /usr/local/lib/python3.10/dist-packages (from spacy==3.5) (3.3.0)\n",
            "Requirement already satisfied: pathy>=0.10.0 in /usr/local/lib/python3.10/dist-packages (from spacy==3.5) (0.10.1)\n",
            "Requirement already satisfied: wasabi<1.2.0,>=0.9.1 in /usr/local/lib/python3.10/dist-packages (from spacy==3.5) (1.1.1)\n",
            "Requirement already satisfied: numpy>=1.15.0 in /usr/local/lib/python3.10/dist-packages (from spacy==3.5) (1.22.4)\n",
            "Requirement already satisfied: thinc<8.2.0,>=8.1.0 in /usr/local/lib/python3.10/dist-packages (from spacy==3.5) (8.1.9)\n",
            "Requirement already satisfied: spacy-loggers<2.0.0,>=1.0.0 in /usr/local/lib/python3.10/dist-packages (from spacy==3.5) (1.0.4)\n",
            "Requirement already satisfied: srsly<3.0.0,>=2.4.3 in /usr/local/lib/python3.10/dist-packages (from spacy==3.5) (2.4.6)\n",
            "Requirement already satisfied: murmurhash<1.1.0,>=0.28.0 in /usr/local/lib/python3.10/dist-packages (from spacy==3.5) (1.0.9)\n",
            "Requirement already satisfied: pydantic!=1.8,!=1.8.1,<1.11.0,>=1.7.4 in /usr/local/lib/python3.10/dist-packages (from spacy==3.5) (1.10.7)\n",
            "Requirement already satisfied: spacy-legacy<3.1.0,>=3.0.11 in /usr/local/lib/python3.10/dist-packages (from spacy==3.5) (3.0.12)\n",
            "Requirement already satisfied: smart-open<7.0.0,>=5.2.1 in /usr/local/lib/python3.10/dist-packages (from spacy==3.5) (6.3.0)\n",
            "Requirement already satisfied: typing-extensions>=4.2.0 in /usr/local/lib/python3.10/dist-packages (from pydantic!=1.8,!=1.8.1,<1.11.0,>=1.7.4->spacy==3.5) (4.5.0)\n",
            "Requirement already satisfied: urllib3<1.27,>=1.21.1 in /usr/local/lib/python3.10/dist-packages (from requests<3.0.0,>=2.13.0->spacy==3.5) (1.26.15)\n",
            "Requirement already satisfied: idna<4,>=2.5 in /usr/local/lib/python3.10/dist-packages (from requests<3.0.0,>=2.13.0->spacy==3.5) (3.4)\n",
            "Requirement already satisfied: charset-normalizer~=2.0.0 in /usr/local/lib/python3.10/dist-packages (from requests<3.0.0,>=2.13.0->spacy==3.5) (2.0.12)\n",
            "Requirement already satisfied: certifi>=2017.4.17 in /usr/local/lib/python3.10/dist-packages (from requests<3.0.0,>=2.13.0->spacy==3.5) (2022.12.7)\n",
            "Requirement already satisfied: confection<1.0.0,>=0.0.1 in /usr/local/lib/python3.10/dist-packages (from thinc<8.2.0,>=8.1.0->spacy==3.5) (0.0.4)\n",
            "Requirement already satisfied: blis<0.8.0,>=0.7.8 in /usr/local/lib/python3.10/dist-packages (from thinc<8.2.0,>=8.1.0->spacy==3.5) (0.7.9)\n",
            "Requirement already satisfied: click<9.0.0,>=7.1.1 in /usr/local/lib/python3.10/dist-packages (from typer<0.8.0,>=0.3.0->spacy==3.5) (8.1.3)\n",
            "Requirement already satisfied: MarkupSafe>=2.0 in /usr/local/lib/python3.10/dist-packages (from jinja2->spacy==3.5) (2.1.2)\n",
            "Installing collected packages: spacy\n",
            "  Attempting uninstall: spacy\n",
            "    Found existing installation: spacy 3.5.2\n",
            "    Uninstalling spacy-3.5.2:\n",
            "      Successfully uninstalled spacy-3.5.2\n",
            "Successfully installed spacy-3.5.0\n",
            "Looking in indexes: https://pypi.org/simple, https://us-python.pkg.dev/colab-wheels/public/simple/\n",
            "Collecting transformers\n",
            "  Downloading transformers-4.28.1-py3-none-any.whl (7.0 MB)\n",
            "\u001b[2K     \u001b[90m━━━━━━━━━━━━━━━━━━━━━━━━━━━━━━━━━━━━━━━━\u001b[0m \u001b[32m7.0/7.0 MB\u001b[0m \u001b[31m87.2 MB/s\u001b[0m eta \u001b[36m0:00:00\u001b[0m\n",
            "\u001b[?25hRequirement already satisfied: regex!=2019.12.17 in /usr/local/lib/python3.10/dist-packages (from transformers) (2022.10.31)\n",
            "Requirement already satisfied: requests in /usr/local/lib/python3.10/dist-packages (from transformers) (2.27.1)\n",
            "Requirement already satisfied: numpy>=1.17 in /usr/local/lib/python3.10/dist-packages (from transformers) (1.22.4)\n",
            "Requirement already satisfied: pyyaml>=5.1 in /usr/local/lib/python3.10/dist-packages (from transformers) (6.0)\n",
            "Collecting tokenizers!=0.11.3,<0.14,>=0.11.1\n",
            "  Downloading tokenizers-0.13.3-cp310-cp310-manylinux_2_17_x86_64.manylinux2014_x86_64.whl (7.8 MB)\n",
            "\u001b[2K     \u001b[90m━━━━━━━━━━━━━━━━━━━━━━━━━━━━━━━━━━━━━━━━\u001b[0m \u001b[32m7.8/7.8 MB\u001b[0m \u001b[31m89.1 MB/s\u001b[0m eta \u001b[36m0:00:00\u001b[0m\n",
            "\u001b[?25hCollecting huggingface-hub<1.0,>=0.11.0\n",
            "  Downloading huggingface_hub-0.14.1-py3-none-any.whl (224 kB)\n",
            "\u001b[2K     \u001b[90m━━━━━━━━━━━━━━━━━━━━━━━━━━━━━━━━━━━━━━\u001b[0m \u001b[32m224.5/224.5 kB\u001b[0m \u001b[31m27.4 MB/s\u001b[0m eta \u001b[36m0:00:00\u001b[0m\n",
            "\u001b[?25hRequirement already satisfied: filelock in /usr/local/lib/python3.10/dist-packages (from transformers) (3.12.0)\n",
            "Requirement already satisfied: packaging>=20.0 in /usr/local/lib/python3.10/dist-packages (from transformers) (23.1)\n",
            "Requirement already satisfied: tqdm>=4.27 in /usr/local/lib/python3.10/dist-packages (from transformers) (4.65.0)\n",
            "Requirement already satisfied: typing-extensions>=3.7.4.3 in /usr/local/lib/python3.10/dist-packages (from huggingface-hub<1.0,>=0.11.0->transformers) (4.5.0)\n",
            "Requirement already satisfied: fsspec in /usr/local/lib/python3.10/dist-packages (from huggingface-hub<1.0,>=0.11.0->transformers) (2023.4.0)\n",
            "Requirement already satisfied: charset-normalizer~=2.0.0 in /usr/local/lib/python3.10/dist-packages (from requests->transformers) (2.0.12)\n",
            "Requirement already satisfied: urllib3<1.27,>=1.21.1 in /usr/local/lib/python3.10/dist-packages (from requests->transformers) (1.26.15)\n",
            "Requirement already satisfied: idna<4,>=2.5 in /usr/local/lib/python3.10/dist-packages (from requests->transformers) (3.4)\n",
            "Requirement already satisfied: certifi>=2017.4.17 in /usr/local/lib/python3.10/dist-packages (from requests->transformers) (2022.12.7)\n",
            "Installing collected packages: tokenizers, huggingface-hub, transformers\n",
            "Successfully installed huggingface-hub-0.14.1 tokenizers-0.13.3 transformers-4.28.1\n",
            "2023-05-01 10:09:25.145836: I tensorflow/core/platform/cpu_feature_guard.cc:182] This TensorFlow binary is optimized to use available CPU instructions in performance-critical operations.\n",
            "To enable the following instructions: AVX2 FMA, in other operations, rebuild TensorFlow with the appropriate compiler flags.\n",
            "2023-05-01 10:09:26.097920: W tensorflow/compiler/tf2tensorrt/utils/py_utils.cc:38] TF-TRT Warning: Could not find TensorRT\n",
            "2023-05-01 10:09:27.323234: I tensorflow/compiler/xla/stream_executor/cuda/cuda_gpu_executor.cc:996] successful NUMA node read from SysFS had negative value (-1), but there must be at least one NUMA node, so returning NUMA node zero. See more at https://github.com/torvalds/linux/blob/v6.0/Documentation/ABI/testing/sysfs-bus-pci#L344-L355\n",
            "2023-05-01 10:09:27.323724: I tensorflow/compiler/xla/stream_executor/cuda/cuda_gpu_executor.cc:996] successful NUMA node read from SysFS had negative value (-1), but there must be at least one NUMA node, so returning NUMA node zero. See more at https://github.com/torvalds/linux/blob/v6.0/Documentation/ABI/testing/sysfs-bus-pci#L344-L355\n",
            "2023-05-01 10:09:27.323942: I tensorflow/compiler/xla/stream_executor/cuda/cuda_gpu_executor.cc:996] successful NUMA node read from SysFS had negative value (-1), but there must be at least one NUMA node, so returning NUMA node zero. See more at https://github.com/torvalds/linux/blob/v6.0/Documentation/ABI/testing/sysfs-bus-pci#L344-L355\n",
            "Looking in indexes: https://pypi.org/simple, https://us-python.pkg.dev/colab-wheels/public/simple/\n",
            "Collecting en-core-web-sm==3.5.0\n",
            "  Downloading https://github.com/explosion/spacy-models/releases/download/en_core_web_sm-3.5.0/en_core_web_sm-3.5.0-py3-none-any.whl (12.8 MB)\n",
            "\u001b[2K     \u001b[90m━━━━━━━━━━━━━━━━━━━━━━━━━━━━━━━━━━━━━━━━\u001b[0m \u001b[32m12.8/12.8 MB\u001b[0m \u001b[31m92.8 MB/s\u001b[0m eta \u001b[36m0:00:00\u001b[0m\n",
            "\u001b[?25hRequirement already satisfied: spacy<3.6.0,>=3.5.0 in /usr/local/lib/python3.10/dist-packages (from en-core-web-sm==3.5.0) (3.5.0)\n",
            "Requirement already satisfied: setuptools in /usr/local/lib/python3.10/dist-packages (from spacy<3.6.0,>=3.5.0->en-core-web-sm==3.5.0) (67.7.2)\n",
            "Requirement already satisfied: typer<0.8.0,>=0.3.0 in /usr/local/lib/python3.10/dist-packages (from spacy<3.6.0,>=3.5.0->en-core-web-sm==3.5.0) (0.7.0)\n",
            "Requirement already satisfied: murmurhash<1.1.0,>=0.28.0 in /usr/local/lib/python3.10/dist-packages (from spacy<3.6.0,>=3.5.0->en-core-web-sm==3.5.0) (1.0.9)\n",
            "Requirement already satisfied: thinc<8.2.0,>=8.1.0 in /usr/local/lib/python3.10/dist-packages (from spacy<3.6.0,>=3.5.0->en-core-web-sm==3.5.0) (8.1.9)\n",
            "Requirement already satisfied: numpy>=1.15.0 in /usr/local/lib/python3.10/dist-packages (from spacy<3.6.0,>=3.5.0->en-core-web-sm==3.5.0) (1.22.4)\n",
            "Requirement already satisfied: spacy-loggers<2.0.0,>=1.0.0 in /usr/local/lib/python3.10/dist-packages (from spacy<3.6.0,>=3.5.0->en-core-web-sm==3.5.0) (1.0.4)\n",
            "Requirement already satisfied: pydantic!=1.8,!=1.8.1,<1.11.0,>=1.7.4 in /usr/local/lib/python3.10/dist-packages (from spacy<3.6.0,>=3.5.0->en-core-web-sm==3.5.0) (1.10.7)\n",
            "Requirement already satisfied: smart-open<7.0.0,>=5.2.1 in /usr/local/lib/python3.10/dist-packages (from spacy<3.6.0,>=3.5.0->en-core-web-sm==3.5.0) (6.3.0)\n",
            "Requirement already satisfied: catalogue<2.1.0,>=2.0.6 in /usr/local/lib/python3.10/dist-packages (from spacy<3.6.0,>=3.5.0->en-core-web-sm==3.5.0) (2.0.8)\n",
            "Requirement already satisfied: requests<3.0.0,>=2.13.0 in /usr/local/lib/python3.10/dist-packages (from spacy<3.6.0,>=3.5.0->en-core-web-sm==3.5.0) (2.27.1)\n",
            "Requirement already satisfied: langcodes<4.0.0,>=3.2.0 in /usr/local/lib/python3.10/dist-packages (from spacy<3.6.0,>=3.5.0->en-core-web-sm==3.5.0) (3.3.0)\n",
            "Requirement already satisfied: jinja2 in /usr/local/lib/python3.10/dist-packages (from spacy<3.6.0,>=3.5.0->en-core-web-sm==3.5.0) (3.1.2)\n",
            "Requirement already satisfied: spacy-legacy<3.1.0,>=3.0.11 in /usr/local/lib/python3.10/dist-packages (from spacy<3.6.0,>=3.5.0->en-core-web-sm==3.5.0) (3.0.12)\n",
            "Requirement already satisfied: tqdm<5.0.0,>=4.38.0 in /usr/local/lib/python3.10/dist-packages (from spacy<3.6.0,>=3.5.0->en-core-web-sm==3.5.0) (4.65.0)\n",
            "Requirement already satisfied: cymem<2.1.0,>=2.0.2 in /usr/local/lib/python3.10/dist-packages (from spacy<3.6.0,>=3.5.0->en-core-web-sm==3.5.0) (2.0.7)\n",
            "Requirement already satisfied: srsly<3.0.0,>=2.4.3 in /usr/local/lib/python3.10/dist-packages (from spacy<3.6.0,>=3.5.0->en-core-web-sm==3.5.0) (2.4.6)\n",
            "Requirement already satisfied: wasabi<1.2.0,>=0.9.1 in /usr/local/lib/python3.10/dist-packages (from spacy<3.6.0,>=3.5.0->en-core-web-sm==3.5.0) (1.1.1)\n",
            "Requirement already satisfied: packaging>=20.0 in /usr/local/lib/python3.10/dist-packages (from spacy<3.6.0,>=3.5.0->en-core-web-sm==3.5.0) (23.1)\n",
            "Requirement already satisfied: pathy>=0.10.0 in /usr/local/lib/python3.10/dist-packages (from spacy<3.6.0,>=3.5.0->en-core-web-sm==3.5.0) (0.10.1)\n",
            "Requirement already satisfied: preshed<3.1.0,>=3.0.2 in /usr/local/lib/python3.10/dist-packages (from spacy<3.6.0,>=3.5.0->en-core-web-sm==3.5.0) (3.0.8)\n",
            "Requirement already satisfied: typing-extensions>=4.2.0 in /usr/local/lib/python3.10/dist-packages (from pydantic!=1.8,!=1.8.1,<1.11.0,>=1.7.4->spacy<3.6.0,>=3.5.0->en-core-web-sm==3.5.0) (4.5.0)\n",
            "Requirement already satisfied: charset-normalizer~=2.0.0 in /usr/local/lib/python3.10/dist-packages (from requests<3.0.0,>=2.13.0->spacy<3.6.0,>=3.5.0->en-core-web-sm==3.5.0) (2.0.12)\n",
            "Requirement already satisfied: certifi>=2017.4.17 in /usr/local/lib/python3.10/dist-packages (from requests<3.0.0,>=2.13.0->spacy<3.6.0,>=3.5.0->en-core-web-sm==3.5.0) (2022.12.7)\n",
            "Requirement already satisfied: idna<4,>=2.5 in /usr/local/lib/python3.10/dist-packages (from requests<3.0.0,>=2.13.0->spacy<3.6.0,>=3.5.0->en-core-web-sm==3.5.0) (3.4)\n",
            "Requirement already satisfied: urllib3<1.27,>=1.21.1 in /usr/local/lib/python3.10/dist-packages (from requests<3.0.0,>=2.13.0->spacy<3.6.0,>=3.5.0->en-core-web-sm==3.5.0) (1.26.15)\n",
            "Requirement already satisfied: confection<1.0.0,>=0.0.1 in /usr/local/lib/python3.10/dist-packages (from thinc<8.2.0,>=8.1.0->spacy<3.6.0,>=3.5.0->en-core-web-sm==3.5.0) (0.0.4)\n",
            "Requirement already satisfied: blis<0.8.0,>=0.7.8 in /usr/local/lib/python3.10/dist-packages (from thinc<8.2.0,>=8.1.0->spacy<3.6.0,>=3.5.0->en-core-web-sm==3.5.0) (0.7.9)\n",
            "Requirement already satisfied: click<9.0.0,>=7.1.1 in /usr/local/lib/python3.10/dist-packages (from typer<0.8.0,>=0.3.0->spacy<3.6.0,>=3.5.0->en-core-web-sm==3.5.0) (8.1.3)\n",
            "Requirement already satisfied: MarkupSafe>=2.0 in /usr/local/lib/python3.10/dist-packages (from jinja2->spacy<3.6.0,>=3.5.0->en-core-web-sm==3.5.0) (2.1.2)\n",
            "\u001b[38;5;2m✔ Download and installation successful\u001b[0m\n",
            "You can now load the package via spacy.load('en_core_web_sm')\n"
          ]
        },
        {
          "name": "stderr",
          "output_type": "stream",
          "text": [
            "[nltk_data] Downloading package stopwords to /root/nltk_data...\n",
            "[nltk_data]   Unzipping corpora/stopwords.zip.\n",
            "[nltk_data] Downloading package wordnet to /root/nltk_data...\n",
            "[nltk_data] Downloading package punkt to /root/nltk_data...\n",
            "[nltk_data]   Unzipping tokenizers/punkt.zip.\n",
            "[nltk_data] Downloading package averaged_perceptron_tagger to\n",
            "[nltk_data]     /root/nltk_data...\n",
            "[nltk_data]   Unzipping taggers/averaged_perceptron_tagger.zip.\n"
          ]
        }
      ],
      "source": [
        "! pip install spacy==3.5\n",
        "! pip install transformers\n",
        "! python -m spacy download en_core_web_sm\n",
        "import spacy\n",
        "nlp = spacy.load(\"en_core_web_sm\")\n",
        "import json\n",
        "from keras.callbacks import ReduceLROnPlateau, ModelCheckpoint\n",
        "import collections\n",
        "import tensorflow as tf\n",
        "import transformers\n",
        "import numpy as np\n",
        "import pandas as pd\n",
        "import gensim.downloader\n",
        "from gensim.models import Word2Vec\n",
        "import nltk\n",
        "from nltk.corpus import stopwords, wordnet\n",
        "from nltk.stem import WordNetLemmatizer\n",
        "from nltk.tokenize import word_tokenize\n",
        "nltk.download('stopwords')\n",
        "nltk.download('wordnet')\n",
        "nltk.download('punkt')\n",
        "nltk.download('averaged_perceptron_tagger')\n",
        "import string\n",
        "from sklearn.feature_extraction.text import CountVectorizer\n",
        "from sklearn.model_selection import train_test_split\n",
        "from sklearn.preprocessing import LabelEncoder\n",
        "from sklearn import svm\n",
        "from sklearn.metrics import accuracy_score, f1_score\n",
        "import matplotlib.pyplot as plt"
      ]
    },
    {
      "cell_type": "markdown",
      "metadata": {
        "id": "Bwc0wFL6taWk"
      },
      "source": [
        "# Coletando Dataset"
      ]
    },
    {
      "cell_type": "code",
      "execution_count": null,
      "metadata": {
        "colab": {
          "base_uri": "https://localhost:8080/"
        },
        "id": "TGb6th8zuky6",
        "outputId": "f7bf53cf-745c-4d7d-edd0-2a1957379369"
      },
      "outputs": [
        {
          "name": "stdout",
          "output_type": "stream",
          "text": [
            "Mounted at /content/drive\n"
          ]
        }
      ],
      "source": [
        "from google.colab import drive\n",
        "drive.mount('/content/drive')"
      ]
    },
    {
      "cell_type": "code",
      "execution_count": null,
      "metadata": {
        "colab": {
          "base_uri": "https://localhost:8080/"
        },
        "id": "BRo6fSkoufku",
        "outputId": "e6a2ec42-2f9c-4779-a388-7f568c931879"
      },
      "outputs": [
        {
          "name": "stdout",
          "output_type": "stream",
          "text": [
            "          ID                                             review  rating\n",
            "0        NaN                                               text  rating\n",
            "1        0.0  OK, I fouled up with my Kindle Paperwhite 11th...     4.0\n",
            "2        1.0  The first thing I thought of when I saw an e-r...     4.0\n",
            "3        2.0  I don't like upgrades. Every time I'm forced t...     4.0\n",
            "4        3.0  PROS: Well, I REALLY like the 11th Gen over my...     4.0\n",
            "...      ...                                                ...     ...\n",
            "3345  3344.0  I love reading in bed before I go to sleep, I’...     5.0\n",
            "3346  3345.0           Perfect replacement for an older Kindle.     5.0\n",
            "3347  3346.0  I can't believe i waited so long to get one of...     5.0\n",
            "3348  3347.0  If you love to read like myself I recommend yo...     5.0\n",
            "3349  3348.0  Bought this to replace a stolen Kindle that wa...     5.0\n",
            "\n",
            "[3350 rows x 3 columns]\n"
          ]
        }
      ],
      "source": [
        "# Lendo o arquivo csv\n",
        "reviews_df = pd.read_csv('/content/drive/MyDrive/Colab Notebooks/NLP/Scraping reviews.csv', header=None)\n",
        "\n",
        "# Renomeando as colunas\n",
        "reviews_df = reviews_df.rename(columns={0: 'ID', 1: 'review', 2: 'rating'})\n",
        "\n",
        "# Exibindo o dataframe resultante\n",
        "print(reviews_df)\n"
      ]
    },
    {
      "cell_type": "code",
      "execution_count": null,
      "metadata": {
        "colab": {
          "base_uri": "https://localhost:8080/"
        },
        "id": "x6BkEhRYvJk_",
        "outputId": "988f9110-81a0-489d-d8f6-4cd62cb89c87"
      },
      "outputs": [
        {
          "name": "stdout",
          "output_type": "stream",
          "text": [
            "<class 'pandas.core.frame.DataFrame'>\n",
            "RangeIndex: 3350 entries, 0 to 3349\n",
            "Data columns (total 3 columns):\n",
            " #   Column  Non-Null Count  Dtype  \n",
            "---  ------  --------------  -----  \n",
            " 0   ID      3349 non-null   float64\n",
            " 1   review  3345 non-null   object \n",
            " 2   rating  3350 non-null   object \n",
            "dtypes: float64(1), object(2)\n",
            "memory usage: 78.6+ KB\n"
          ]
        }
      ],
      "source": [
        "reviews_df.info()\n"
      ]
    },
    {
      "cell_type": "code",
      "execution_count": null,
      "metadata": {
        "id": "IkfYhvnKvtp5"
      },
      "outputs": [],
      "source": [
        "reviews_df = reviews_df.dropna(axis=0)\n",
        "reviews_df['ID'] = reviews_df['ID'].astype(int)\n",
        "reviews_df['rating'] = reviews_df['rating'].astype(float)\n",
        "reviews_df = reviews_df.set_index('ID')"
      ]
    },
    {
      "cell_type": "code",
      "execution_count": null,
      "metadata": {
        "colab": {
          "base_uri": "https://localhost:8080/"
        },
        "id": "wTGg9waSvxG4",
        "outputId": "efbb2f07-3db6-4772-9753-25f04f8250a7"
      },
      "outputs": [
        {
          "data": {
            "text/html": [
              "\n",
              "  <div id=\"df-38ddbb90-db57-43d0-a4c5-234d6dead8df\">\n",
              "    <div class=\"colab-df-container\">\n",
              "      <div>\n",
              "<style scoped>\n",
              "    .dataframe tbody tr th:only-of-type {\n",
              "        vertical-align: middle;\n",
              "    }\n",
              "\n",
              "    .dataframe tbody tr th {\n",
              "        vertical-align: top;\n",
              "    }\n",
              "\n",
              "    .dataframe thead th {\n",
              "        text-align: right;\n",
              "    }\n",
              "</style>\n",
              "<table border=\"1\" class=\"dataframe\">\n",
              "  <thead>\n",
              "    <tr style=\"text-align: right;\">\n",
              "      <th></th>\n",
              "      <th>review</th>\n",
              "      <th>rating</th>\n",
              "    </tr>\n",
              "    <tr>\n",
              "      <th>ID</th>\n",
              "      <th></th>\n",
              "      <th></th>\n",
              "    </tr>\n",
              "  </thead>\n",
              "  <tbody>\n",
              "    <tr>\n",
              "      <th>894</th>\n",
              "      <td>Great gift for an avid book reader. They love ...</td>\n",
              "      <td>3.0</td>\n",
              "    </tr>\n",
              "    <tr>\n",
              "      <th>814</th>\n",
              "      <td>i stopped reading for a while bc the only time...</td>\n",
              "      <td>4.0</td>\n",
              "    </tr>\n",
              "    <tr>\n",
              "      <th>2639</th>\n",
              "      <td>I rarely write reviews. However this time, I w...</td>\n",
              "      <td>1.0</td>\n",
              "    </tr>\n",
              "    <tr>\n",
              "      <th>2985</th>\n",
              "      <td>I had a paperwhite from 2012. This is an incre...</td>\n",
              "      <td>5.0</td>\n",
              "    </tr>\n",
              "    <tr>\n",
              "      <th>1433</th>\n",
              "      <td>I am on my second kindle paper white. The firs...</td>\n",
              "      <td>4.0</td>\n",
              "    </tr>\n",
              "    <tr>\n",
              "      <th>2859</th>\n",
              "      <td>living in our RV whilst our house is being bui...</td>\n",
              "      <td>5.0</td>\n",
              "    </tr>\n",
              "    <tr>\n",
              "      <th>196</th>\n",
              "      <td>I said I'd never stop reading paper books, but...</td>\n",
              "      <td>4.0</td>\n",
              "    </tr>\n",
              "    <tr>\n",
              "      <th>2880</th>\n",
              "      <td>This could not be any better, it is the latest...</td>\n",
              "      <td>5.0</td>\n",
              "    </tr>\n",
              "    <tr>\n",
              "      <th>103</th>\n",
              "      <td>This kindle is perfect! I’ve been wanting to g...</td>\n",
              "      <td>5.0</td>\n",
              "    </tr>\n",
              "    <tr>\n",
              "      <th>1972</th>\n",
              "      <td>Super disappointed. first one received was dea...</td>\n",
              "      <td>2.0</td>\n",
              "    </tr>\n",
              "  </tbody>\n",
              "</table>\n",
              "</div>\n",
              "      <button class=\"colab-df-convert\" onclick=\"convertToInteractive('df-38ddbb90-db57-43d0-a4c5-234d6dead8df')\"\n",
              "              title=\"Convert this dataframe to an interactive table.\"\n",
              "              style=\"display:none;\">\n",
              "        \n",
              "  <svg xmlns=\"http://www.w3.org/2000/svg\" height=\"24px\"viewBox=\"0 0 24 24\"\n",
              "       width=\"24px\">\n",
              "    <path d=\"M0 0h24v24H0V0z\" fill=\"none\"/>\n",
              "    <path d=\"M18.56 5.44l.94 2.06.94-2.06 2.06-.94-2.06-.94-.94-2.06-.94 2.06-2.06.94zm-11 1L8.5 8.5l.94-2.06 2.06-.94-2.06-.94L8.5 2.5l-.94 2.06-2.06.94zm10 10l.94 2.06.94-2.06 2.06-.94-2.06-.94-.94-2.06-.94 2.06-2.06.94z\"/><path d=\"M17.41 7.96l-1.37-1.37c-.4-.4-.92-.59-1.43-.59-.52 0-1.04.2-1.43.59L10.3 9.45l-7.72 7.72c-.78.78-.78 2.05 0 2.83L4 21.41c.39.39.9.59 1.41.59.51 0 1.02-.2 1.41-.59l7.78-7.78 2.81-2.81c.8-.78.8-2.07 0-2.86zM5.41 20L4 18.59l7.72-7.72 1.47 1.35L5.41 20z\"/>\n",
              "  </svg>\n",
              "      </button>\n",
              "      \n",
              "  <style>\n",
              "    .colab-df-container {\n",
              "      display:flex;\n",
              "      flex-wrap:wrap;\n",
              "      gap: 12px;\n",
              "    }\n",
              "\n",
              "    .colab-df-convert {\n",
              "      background-color: #E8F0FE;\n",
              "      border: none;\n",
              "      border-radius: 50%;\n",
              "      cursor: pointer;\n",
              "      display: none;\n",
              "      fill: #1967D2;\n",
              "      height: 32px;\n",
              "      padding: 0 0 0 0;\n",
              "      width: 32px;\n",
              "    }\n",
              "\n",
              "    .colab-df-convert:hover {\n",
              "      background-color: #E2EBFA;\n",
              "      box-shadow: 0px 1px 2px rgba(60, 64, 67, 0.3), 0px 1px 3px 1px rgba(60, 64, 67, 0.15);\n",
              "      fill: #174EA6;\n",
              "    }\n",
              "\n",
              "    [theme=dark] .colab-df-convert {\n",
              "      background-color: #3B4455;\n",
              "      fill: #D2E3FC;\n",
              "    }\n",
              "\n",
              "    [theme=dark] .colab-df-convert:hover {\n",
              "      background-color: #434B5C;\n",
              "      box-shadow: 0px 1px 3px 1px rgba(0, 0, 0, 0.15);\n",
              "      filter: drop-shadow(0px 1px 2px rgba(0, 0, 0, 0.3));\n",
              "      fill: #FFFFFF;\n",
              "    }\n",
              "  </style>\n",
              "\n",
              "      <script>\n",
              "        const buttonEl =\n",
              "          document.querySelector('#df-38ddbb90-db57-43d0-a4c5-234d6dead8df button.colab-df-convert');\n",
              "        buttonEl.style.display =\n",
              "          google.colab.kernel.accessAllowed ? 'block' : 'none';\n",
              "\n",
              "        async function convertToInteractive(key) {\n",
              "          const element = document.querySelector('#df-38ddbb90-db57-43d0-a4c5-234d6dead8df');\n",
              "          const dataTable =\n",
              "            await google.colab.kernel.invokeFunction('convertToInteractive',\n",
              "                                                     [key], {});\n",
              "          if (!dataTable) return;\n",
              "\n",
              "          const docLinkHtml = 'Like what you see? Visit the ' +\n",
              "            '<a target=\"_blank\" href=https://colab.research.google.com/notebooks/data_table.ipynb>data table notebook</a>'\n",
              "            + ' to learn more about interactive tables.';\n",
              "          element.innerHTML = '';\n",
              "          dataTable['output_type'] = 'display_data';\n",
              "          await google.colab.output.renderOutput(dataTable, element);\n",
              "          const docLink = document.createElement('div');\n",
              "          docLink.innerHTML = docLinkHtml;\n",
              "          element.appendChild(docLink);\n",
              "        }\n",
              "      </script>\n",
              "    </div>\n",
              "  </div>\n",
              "  "
            ],
            "text/plain": [
              "                                                 review  rating\n",
              "ID                                                             \n",
              "894   Great gift for an avid book reader. They love ...     3.0\n",
              "814   i stopped reading for a while bc the only time...     4.0\n",
              "2639  I rarely write reviews. However this time, I w...     1.0\n",
              "2985  I had a paperwhite from 2012. This is an incre...     5.0\n",
              "1433  I am on my second kindle paper white. The firs...     4.0\n",
              "2859  living in our RV whilst our house is being bui...     5.0\n",
              "196   I said I'd never stop reading paper books, but...     4.0\n",
              "2880  This could not be any better, it is the latest...     5.0\n",
              "103   This kindle is perfect! I’ve been wanting to g...     5.0\n",
              "1972  Super disappointed. first one received was dea...     2.0"
            ]
          },
          "execution_count": 8,
          "metadata": {},
          "output_type": "execute_result"
        }
      ],
      "source": [
        "reviews_df.sample(10)"
      ]
    },
    {
      "cell_type": "markdown",
      "metadata": {
        "id": "IMtbE9pRtgXz"
      },
      "source": [
        "# Pré-Processamento"
      ]
    },
    {
      "cell_type": "markdown",
      "metadata": {
        "id": "tPUnC0TmuXms"
      },
      "source": [
        "##Configurar Targets"
      ]
    },
    {
      "cell_type": "code",
      "execution_count": null,
      "metadata": {
        "id": "x24dmuGKuW3g"
      },
      "outputs": [],
      "source": [
        "reviews_df['Sentimento'] = reviews_df['rating'].apply(lambda x: 0 if x >= 4 else 1)"
      ]
    },
    {
      "cell_type": "code",
      "execution_count": null,
      "metadata": {
        "colab": {
          "base_uri": "https://localhost:8080/"
        },
        "id": "tmWc5GxUfqw4",
        "outputId": "d5f2ee2f-4894-4821-ba9b-e42e2f6edd31"
      },
      "outputs": [
        {
          "data": {
            "text/html": [
              "\n",
              "  <div id=\"df-ef88b481-cb2d-4dd9-9134-4ee50e230cea\">\n",
              "    <div class=\"colab-df-container\">\n",
              "      <div>\n",
              "<style scoped>\n",
              "    .dataframe tbody tr th:only-of-type {\n",
              "        vertical-align: middle;\n",
              "    }\n",
              "\n",
              "    .dataframe tbody tr th {\n",
              "        vertical-align: top;\n",
              "    }\n",
              "\n",
              "    .dataframe thead th {\n",
              "        text-align: right;\n",
              "    }\n",
              "</style>\n",
              "<table border=\"1\" class=\"dataframe\">\n",
              "  <thead>\n",
              "    <tr style=\"text-align: right;\">\n",
              "      <th></th>\n",
              "      <th>review</th>\n",
              "      <th>rating</th>\n",
              "      <th>Sentimento</th>\n",
              "    </tr>\n",
              "    <tr>\n",
              "      <th>ID</th>\n",
              "      <th></th>\n",
              "      <th></th>\n",
              "      <th></th>\n",
              "    </tr>\n",
              "  </thead>\n",
              "  <tbody>\n",
              "    <tr>\n",
              "      <th>0</th>\n",
              "      <td>OK, I fouled up with my Kindle Paperwhite 11th...</td>\n",
              "      <td>4.0</td>\n",
              "      <td>0</td>\n",
              "    </tr>\n",
              "    <tr>\n",
              "      <th>1</th>\n",
              "      <td>The first thing I thought of when I saw an e-r...</td>\n",
              "      <td>4.0</td>\n",
              "      <td>0</td>\n",
              "    </tr>\n",
              "    <tr>\n",
              "      <th>2</th>\n",
              "      <td>I don't like upgrades. Every time I'm forced t...</td>\n",
              "      <td>4.0</td>\n",
              "      <td>0</td>\n",
              "    </tr>\n",
              "    <tr>\n",
              "      <th>3</th>\n",
              "      <td>PROS: Well, I REALLY like the 11th Gen over my...</td>\n",
              "      <td>4.0</td>\n",
              "      <td>0</td>\n",
              "    </tr>\n",
              "    <tr>\n",
              "      <th>4</th>\n",
              "      <td>Kindle Signature Paperwhite plus Charging Stan...</td>\n",
              "      <td>4.0</td>\n",
              "      <td>0</td>\n",
              "    </tr>\n",
              "    <tr>\n",
              "      <th>...</th>\n",
              "      <td>...</td>\n",
              "      <td>...</td>\n",
              "      <td>...</td>\n",
              "    </tr>\n",
              "    <tr>\n",
              "      <th>3344</th>\n",
              "      <td>I love reading in bed before I go to sleep, I’...</td>\n",
              "      <td>5.0</td>\n",
              "      <td>0</td>\n",
              "    </tr>\n",
              "    <tr>\n",
              "      <th>3345</th>\n",
              "      <td>Perfect replacement for an older Kindle.</td>\n",
              "      <td>5.0</td>\n",
              "      <td>0</td>\n",
              "    </tr>\n",
              "    <tr>\n",
              "      <th>3346</th>\n",
              "      <td>I can't believe i waited so long to get one of...</td>\n",
              "      <td>5.0</td>\n",
              "      <td>0</td>\n",
              "    </tr>\n",
              "    <tr>\n",
              "      <th>3347</th>\n",
              "      <td>If you love to read like myself I recommend yo...</td>\n",
              "      <td>5.0</td>\n",
              "      <td>0</td>\n",
              "    </tr>\n",
              "    <tr>\n",
              "      <th>3348</th>\n",
              "      <td>Bought this to replace a stolen Kindle that wa...</td>\n",
              "      <td>5.0</td>\n",
              "      <td>0</td>\n",
              "    </tr>\n",
              "  </tbody>\n",
              "</table>\n",
              "<p>3344 rows × 3 columns</p>\n",
              "</div>\n",
              "      <button class=\"colab-df-convert\" onclick=\"convertToInteractive('df-ef88b481-cb2d-4dd9-9134-4ee50e230cea')\"\n",
              "              title=\"Convert this dataframe to an interactive table.\"\n",
              "              style=\"display:none;\">\n",
              "        \n",
              "  <svg xmlns=\"http://www.w3.org/2000/svg\" height=\"24px\"viewBox=\"0 0 24 24\"\n",
              "       width=\"24px\">\n",
              "    <path d=\"M0 0h24v24H0V0z\" fill=\"none\"/>\n",
              "    <path d=\"M18.56 5.44l.94 2.06.94-2.06 2.06-.94-2.06-.94-.94-2.06-.94 2.06-2.06.94zm-11 1L8.5 8.5l.94-2.06 2.06-.94-2.06-.94L8.5 2.5l-.94 2.06-2.06.94zm10 10l.94 2.06.94-2.06 2.06-.94-2.06-.94-.94-2.06-.94 2.06-2.06.94z\"/><path d=\"M17.41 7.96l-1.37-1.37c-.4-.4-.92-.59-1.43-.59-.52 0-1.04.2-1.43.59L10.3 9.45l-7.72 7.72c-.78.78-.78 2.05 0 2.83L4 21.41c.39.39.9.59 1.41.59.51 0 1.02-.2 1.41-.59l7.78-7.78 2.81-2.81c.8-.78.8-2.07 0-2.86zM5.41 20L4 18.59l7.72-7.72 1.47 1.35L5.41 20z\"/>\n",
              "  </svg>\n",
              "      </button>\n",
              "      \n",
              "  <style>\n",
              "    .colab-df-container {\n",
              "      display:flex;\n",
              "      flex-wrap:wrap;\n",
              "      gap: 12px;\n",
              "    }\n",
              "\n",
              "    .colab-df-convert {\n",
              "      background-color: #E8F0FE;\n",
              "      border: none;\n",
              "      border-radius: 50%;\n",
              "      cursor: pointer;\n",
              "      display: none;\n",
              "      fill: #1967D2;\n",
              "      height: 32px;\n",
              "      padding: 0 0 0 0;\n",
              "      width: 32px;\n",
              "    }\n",
              "\n",
              "    .colab-df-convert:hover {\n",
              "      background-color: #E2EBFA;\n",
              "      box-shadow: 0px 1px 2px rgba(60, 64, 67, 0.3), 0px 1px 3px 1px rgba(60, 64, 67, 0.15);\n",
              "      fill: #174EA6;\n",
              "    }\n",
              "\n",
              "    [theme=dark] .colab-df-convert {\n",
              "      background-color: #3B4455;\n",
              "      fill: #D2E3FC;\n",
              "    }\n",
              "\n",
              "    [theme=dark] .colab-df-convert:hover {\n",
              "      background-color: #434B5C;\n",
              "      box-shadow: 0px 1px 3px 1px rgba(0, 0, 0, 0.15);\n",
              "      filter: drop-shadow(0px 1px 2px rgba(0, 0, 0, 0.3));\n",
              "      fill: #FFFFFF;\n",
              "    }\n",
              "  </style>\n",
              "\n",
              "      <script>\n",
              "        const buttonEl =\n",
              "          document.querySelector('#df-ef88b481-cb2d-4dd9-9134-4ee50e230cea button.colab-df-convert');\n",
              "        buttonEl.style.display =\n",
              "          google.colab.kernel.accessAllowed ? 'block' : 'none';\n",
              "\n",
              "        async function convertToInteractive(key) {\n",
              "          const element = document.querySelector('#df-ef88b481-cb2d-4dd9-9134-4ee50e230cea');\n",
              "          const dataTable =\n",
              "            await google.colab.kernel.invokeFunction('convertToInteractive',\n",
              "                                                     [key], {});\n",
              "          if (!dataTable) return;\n",
              "\n",
              "          const docLinkHtml = 'Like what you see? Visit the ' +\n",
              "            '<a target=\"_blank\" href=https://colab.research.google.com/notebooks/data_table.ipynb>data table notebook</a>'\n",
              "            + ' to learn more about interactive tables.';\n",
              "          element.innerHTML = '';\n",
              "          dataTable['output_type'] = 'display_data';\n",
              "          await google.colab.output.renderOutput(dataTable, element);\n",
              "          const docLink = document.createElement('div');\n",
              "          docLink.innerHTML = docLinkHtml;\n",
              "          element.appendChild(docLink);\n",
              "        }\n",
              "      </script>\n",
              "    </div>\n",
              "  </div>\n",
              "  "
            ],
            "text/plain": [
              "                                                 review  rating  Sentimento\n",
              "ID                                                                         \n",
              "0     OK, I fouled up with my Kindle Paperwhite 11th...     4.0           0\n",
              "1     The first thing I thought of when I saw an e-r...     4.0           0\n",
              "2     I don't like upgrades. Every time I'm forced t...     4.0           0\n",
              "3     PROS: Well, I REALLY like the 11th Gen over my...     4.0           0\n",
              "4     Kindle Signature Paperwhite plus Charging Stan...     4.0           0\n",
              "...                                                 ...     ...         ...\n",
              "3344  I love reading in bed before I go to sleep, I’...     5.0           0\n",
              "3345           Perfect replacement for an older Kindle.     5.0           0\n",
              "3346  I can't believe i waited so long to get one of...     5.0           0\n",
              "3347  If you love to read like myself I recommend yo...     5.0           0\n",
              "3348  Bought this to replace a stolen Kindle that wa...     5.0           0\n",
              "\n",
              "[3344 rows x 3 columns]"
            ]
          },
          "execution_count": 10,
          "metadata": {},
          "output_type": "execute_result"
        }
      ],
      "source": [
        "reviews_df"
      ]
    },
    {
      "cell_type": "code",
      "execution_count": null,
      "metadata": {
        "colab": {
          "base_uri": "https://localhost:8080/"
        },
        "id": "EQbfOCnafvxB",
        "outputId": "d10b3ae0-d2cf-4177-cad5-1e278c6ad544"
      },
      "outputs": [
        {
          "name": "stdout",
          "output_type": "stream",
          "text": [
            "<class 'pandas.core.frame.DataFrame'>\n",
            "Int64Index: 3344 entries, 0 to 3348\n",
            "Data columns (total 3 columns):\n",
            " #   Column      Non-Null Count  Dtype  \n",
            "---  ------      --------------  -----  \n",
            " 0   review      3344 non-null   object \n",
            " 1   rating      3344 non-null   float64\n",
            " 2   Sentimento  3344 non-null   int64  \n",
            "dtypes: float64(1), int64(1), object(1)\n",
            "memory usage: 104.5+ KB\n"
          ]
        }
      ],
      "source": [
        "reviews_df.info()"
      ]
    },
    {
      "cell_type": "markdown",
      "metadata": {
        "id": "fn4kj0oMhUcR"
      },
      "source": [
        "##Verificando o Balanceamento do Dataset"
      ]
    },
    {
      "cell_type": "code",
      "execution_count": null,
      "metadata": {
        "id": "4YEaMV4thT1A"
      },
      "outputs": [],
      "source": [
        "# contando a quantidade de ocorrências de cada valor na coluna sentimento\n",
        "counts = reviews_df['Sentimento'].value_counts()"
      ]
    },
    {
      "cell_type": "code",
      "execution_count": null,
      "metadata": {
        "colab": {
          "base_uri": "https://localhost:8080/"
        },
        "id": "v-hldDh7hiXD",
        "outputId": "d2be2e77-670c-4725-ab8a-297c5cac924e"
      },
      "outputs": [
        {
          "name": "stdout",
          "output_type": "stream",
          "text": [
            "Quantidade de Sentimentos Positivos: 2125 - 63.55%\n",
            "Quantidade de Sentimentos Negativos: 1219 - 36.45%\n"
          ]
        }
      ],
      "source": [
        "# contando a quantidade de ocorrências de cada valor na coluna sentimento\n",
        "counts = reviews_df['Sentimento'].value_counts()\n",
        "\n",
        "# imprimindo os resultados\n",
        "print(f'Quantidade de Sentimentos Positivos: {counts[0]} - {round(counts[0]/(counts[0]+counts[1])*100,2)}%')\n",
        "print(f'Quantidade de Sentimentos Negativos: {counts[1]} - {round(counts[1]/(counts[0]+counts[1])*100,2)}%')"
      ]
    },
    {
      "cell_type": "markdown",
      "metadata": {
        "id": "8-hewaRDpW_x"
      },
      "source": [
        "##Separando dados de testes"
      ]
    },
    {
      "cell_type": "code",
      "execution_count": null,
      "metadata": {
        "id": "7R4y4UYWpWVa"
      },
      "outputs": [],
      "source": [
        "reviews_df, test_df = train_test_split(reviews_df, test_size=0.25, random_state=42)"
      ]
    },
    {
      "cell_type": "code",
      "execution_count": null,
      "metadata": {
        "colab": {
          "base_uri": "https://localhost:8080/"
        },
        "id": "w1FLElIsFUBj",
        "outputId": "26fbbdda-ccb9-4d1f-ef95-5eff2146845e"
      },
      "outputs": [
        {
          "data": {
            "text/plain": [
              "2508"
            ]
          },
          "execution_count": 15,
          "metadata": {},
          "output_type": "execute_result"
        }
      ],
      "source": [
        "len(reviews_df)"
      ]
    },
    {
      "cell_type": "markdown",
      "metadata": {
        "id": "Jf_2lExyJBuQ"
      },
      "source": [
        "##Balanceando as Classes"
      ]
    },
    {
      "cell_type": "code",
      "execution_count": null,
      "metadata": {
        "id": "7949J6fIfIGt"
      },
      "outputs": [],
      "source": [
        "# separar os exemplos positivos e negativos\n",
        "negativos = reviews_df[reviews_df['Sentimento'] == 1]\n",
        "positivos = reviews_df[reviews_df['Sentimento'] == 0]\n",
        "\n",
        "# reduzir a quantidade de exemplos positivos para o mesmo número de exemplos negativos\n",
        "positivos_amostrados = positivos.sample(n=len(negativos), random_state=42)\n",
        "\n",
        "# concatenar os exemplos positivos e negativos amostrados\n",
        "df_amostrado = pd.concat([negativos, positivos_amostrados], axis=0)\n",
        "\n",
        "# embaralhar as linhas do DataFrame resultante\n",
        "df_amostrado = df_amostrado.sample(frac=1, random_state=42).reset_index(drop=True)\n"
      ]
    },
    {
      "cell_type": "code",
      "execution_count": null,
      "metadata": {
        "colab": {
          "base_uri": "https://localhost:8080/"
        },
        "id": "06TYRbcXfp9E",
        "outputId": "177b931d-7118-4e64-dfad-80d67cc7d228"
      },
      "outputs": [
        {
          "name": "stdout",
          "output_type": "stream",
          "text": [
            "Quantidade de Sentimentos Positivos: 933 - 50.0%\n",
            "Quantidade de Sentimentos Negativos: 933 - 50.0%\n"
          ]
        }
      ],
      "source": [
        "counts = df_amostrado['Sentimento'].value_counts()\n",
        "# imprimindo os resultados\n",
        "print(f'Quantidade de Sentimentos Positivos: {counts[0]} - {round(counts[0]/(counts[0]+counts[1])*100,2)}%')\n",
        "print(f'Quantidade de Sentimentos Negativos: {counts[1]} - {round(counts[1]/(counts[0]+counts[1])*100,2)}%')"
      ]
    },
    {
      "cell_type": "markdown",
      "metadata": {
        "id": "hqOmMGhjvVQD"
      },
      "source": [
        "#BOW"
      ]
    },
    {
      "cell_type": "markdown",
      "metadata": {
        "id": "v33M_PVolIsZ"
      },
      "source": [
        "##Lemmatização"
      ]
    },
    {
      "cell_type": "markdown",
      "metadata": {
        "id": "L9k_VfM6eZU7"
      },
      "source": [
        "###Proposta A"
      ]
    },
    {
      "cell_type": "code",
      "execution_count": null,
      "metadata": {
        "id": "4I3x68MP477h"
      },
      "outputs": [],
      "source": [
        "# Define uma função para lematizar um texto com o modelo de linguagem do Spacy\n",
        "def lematizar_texto(texto):\n",
        "    doc = nlp(texto)\n",
        "    tokens_lematizados = [token.lemma_ for token in doc]\n",
        "    return ' '.join(tokens_lematizados)\n",
        "\n",
        "# Aplica a função de lematização na coluna \"review\" do dataframe\n",
        "df_amostrado['texto_lematizado_A'] = df_amostrado['review'].apply(lematizar_texto)\n",
        "reviews_df['texto_lematizado_A'] = reviews_df['review'].apply(lematizar_texto)"
      ]
    },
    {
      "cell_type": "code",
      "execution_count": null,
      "metadata": {
        "colab": {
          "base_uri": "https://localhost:8080/"
        },
        "id": "FDdlq2qq7Sd1",
        "outputId": "41cfc174-7910-4be4-d990-3bac3955509d"
      },
      "outputs": [
        {
          "name": "stdout",
          "output_type": "stream",
          "text": [
            "O corpus lematizado amostrado tem 3269 tokens únicos.\n",
            "O corpus lematizado tem 4123 tokens únicos.\n",
            "Os 10 tokens amostrados mais frequentes são:\n",
            ". - 2884\n",
            "I - 2278\n",
            "the - 2172\n",
            "be - 1975\n",
            "to - 1458\n",
            "it - 1308\n",
            ", - 1298\n",
            "and - 1242\n",
            "a - 1142\n",
            "not - 764\n",
            "Os 10 tokens mais frequentes são:\n",
            ". - 4223\n",
            "I - 3465\n",
            "the - 3344\n",
            "be - 2987\n",
            "to - 2163\n",
            ", - 2023\n",
            "it - 1951\n",
            "and - 1860\n",
            "a - 1699\n",
            "not - 1095\n"
          ]
        }
      ],
      "source": [
        "# Concatena todas as strings da coluna \"texto_lematizado\" em um único texto\n",
        "texto_concatenado_amostrado = ' '.join(df_amostrado['texto_lematizado_A'].tolist())\n",
        "texto_concatenado = ' '.join(reviews_df['texto_lematizado_A'].tolist())\n",
        "\n",
        "# Divide o texto em tokens\n",
        "tokens_amostrado = texto_concatenado_amostrado.split()\n",
        "tokens = texto_concatenado.split()\n",
        "\n",
        "\n",
        "# Conta o número de tokens únicos\n",
        "num_tokens_unicos_amostrado = len(set(tokens_amostrado))\n",
        "num_tokens_unicos = len(set(tokens))\n",
        "print(f'O corpus lematizado amostrado tem {num_tokens_unicos_amostrado} tokens únicos.\\nO corpus lematizado tem {num_tokens_unicos} tokens únicos.')\n",
        "\n",
        "# Conta a frequência dos tokens\n",
        "contagem_tokens_amostrados = collections.Counter(tokens_amostrado)\n",
        "contagem_tokens = collections.Counter(tokens)\n",
        "\n",
        "# Imprime os 10 tokens mais frequentes\n",
        "print(\"Os 10 tokens amostrados mais frequentes são:\")\n",
        "for token, frequencia in contagem_tokens_amostrados.most_common(10):\n",
        "    print(token, \"-\", frequencia)\n",
        "\n",
        "print(\"Os 10 tokens mais frequentes são:\")\n",
        "for token, frequencia in contagem_tokens.most_common(10):\n",
        "    print(token, \"-\", frequencia)"
      ]
    },
    {
      "cell_type": "code",
      "execution_count": null,
      "metadata": {
        "id": "JJ2egwMl6jv4"
      },
      "outputs": [],
      "source": [
        "# Define as stopwords em inglês do nltk\n",
        "stopwords_nltk = set(stopwords.words('english'))\n",
        "\n",
        "# Define a pontuação a ser removida\n",
        "pontuacao = set(string.punctuation)\n",
        "\n",
        "# Define uma função para remover stopwords e pontuação de um texto\n",
        "def remover_stopwords_pontuacao(texto):\n",
        "    doc = nlp(texto)\n",
        "    tokens_lematizados = [token.lemma_ for token in doc if token.text.lower() not in stopwords_nltk and token.text not in pontuacao]\n",
        "    return ' '.join(tokens_lematizados)\n",
        "\n",
        "# Aplica a função de remoção de stopwords e pontuação na coluna \"texto_lematizado\" do dataframe\n",
        "df_amostrado['texto_limpo_A'] = df_amostrado['texto_lematizado_A'].apply(remover_stopwords_pontuacao)\n",
        "reviews_df['texto_limpo_A'] = reviews_df['texto_lematizado_A'].apply(remover_stopwords_pontuacao)"
      ]
    },
    {
      "cell_type": "code",
      "execution_count": null,
      "metadata": {
        "colab": {
          "base_uri": "https://localhost:8080/"
        },
        "id": "vRR2UsiB7n9q",
        "outputId": "e908b136-6a37-40b1-e1c0-bf9dcb00ba9c"
      },
      "outputs": [
        {
          "name": "stdout",
          "output_type": "stream",
          "text": [
            "O corpus lematizado amostrado tem 3089 tokens únicos.\n",
            "O corpus lematizado tem 3921 tokens únicos.\n",
            "Os 10 tokens amostrados mais frequentes são:\n",
            "Kindle - 394\n",
            "read - 380\n",
            "book - 365\n",
            "kindle - 292\n",
            "one - 286\n",
            "screen - 278\n",
            "get - 262\n",
            "use - 250\n",
            "new - 214\n",
            "love - 203\n",
            "Os 10 tokens mais frequentes são:\n",
            "read - 639\n",
            "Kindle - 611\n",
            "book - 560\n",
            "one - 448\n",
            "kindle - 423\n",
            "screen - 405\n",
            "use - 377\n",
            "get - 371\n",
            "like - 352\n",
            "love - 335\n"
          ]
        }
      ],
      "source": [
        "# Concatena todas as strings da coluna \"texto_lematizado\" em um único texto\n",
        "texto_concatenado_amostrado = ' '.join(df_amostrado['texto_limpo_A'].tolist())\n",
        "texto_concatenado = ' '.join(reviews_df['texto_limpo_A'].tolist())\n",
        "\n",
        "# Divide o texto em tokens\n",
        "tokens_amostrado = texto_concatenado_amostrado.split()\n",
        "tokens = texto_concatenado.split()\n",
        "\n",
        "# Conta o número de tokens únicos\n",
        "num_tokens_unicos_amostrado = len(set(tokens_amostrado))\n",
        "num_tokens_unicos = len(set(tokens))\n",
        "print(f'O corpus lematizado amostrado tem {num_tokens_unicos_amostrado} tokens únicos.\\nO corpus lematizado tem {num_tokens_unicos} tokens únicos.')\n",
        "\n",
        "# Conta a frequência dos tokens\n",
        "contagem_tokens_amostrados = collections.Counter(tokens_amostrado)\n",
        "contagem_tokens = collections.Counter(tokens)\n",
        "\n",
        "# Imprime os 10 tokens mais frequentes\n",
        "print(\"Os 10 tokens amostrados mais frequentes são:\")\n",
        "for token, frequencia in contagem_tokens_amostrados.most_common(10):\n",
        "    print(token, \"-\", frequencia)\n",
        "\n",
        "print(\"Os 10 tokens mais frequentes são:\")\n",
        "for token, frequencia in contagem_tokens.most_common(10):\n",
        "    print(token, \"-\", frequencia)"
      ]
    },
    {
      "cell_type": "markdown",
      "metadata": {
        "id": "AGvZoWGPaXBD"
      },
      "source": [
        "## Vetorização"
      ]
    },
    {
      "cell_type": "markdown",
      "metadata": {
        "id": "8ES8FBD4epXL"
      },
      "source": [
        "###Proposta A"
      ]
    },
    {
      "cell_type": "code",
      "execution_count": null,
      "metadata": {
        "colab": {
          "base_uri": "https://localhost:8080/"
        },
        "id": "Sm4ybDlaAamB",
        "outputId": "a36d3fe9-1ad1-442b-a44a-9be0f6f40a5c"
      },
      "outputs": [
        {
          "data": {
            "text/plain": [
              "<836x4623 sparse matrix of type '<class 'numpy.int64'>'\n",
              "\twith 42973 stored elements in Compressed Sparse Row format>"
            ]
          },
          "execution_count": 25,
          "metadata": {},
          "output_type": "execute_result"
        }
      ],
      "source": [
        "vectorizer_amostrado = CountVectorizer()\n",
        "vectorizer = CountVectorizer()\n",
        "vectorizer_amostrado.fit_transform(df_amostrado['texto_limpo_A'])\n",
        "vectorizer.fit_transform(reviews_df['review'])"
      ]
    },
    {
      "cell_type": "markdown",
      "metadata": {
        "id": "PfcTYVKxtYz8"
      },
      "source": [
        "##Pipeline"
      ]
    },
    {
      "cell_type": "code",
      "execution_count": null,
      "metadata": {
        "id": "ZtPF271UqAOg"
      },
      "outputs": [],
      "source": [
        "def pipeline (df, coluna, vectorizer=vectorizer):\n",
        "  df['texto_lematizado_A'] = df['review'].apply(lematizar_texto)\n",
        "  df['texto_limpo_A'] = df['texto_lematizado_A'].apply(remover_stopwords_pontuacao)\n",
        "  X = test_df[coluna].values\n",
        "  y = test_df['Sentimento'].values\n",
        "  y = np.array(y, dtype=np.int32)\n",
        "  Encoder = LabelEncoder()\n",
        "  y = Encoder.fit_transform(y)\n",
        "  X = vectorizer.transform(X)\n",
        "  return X, y\n"
      ]
    },
    {
      "cell_type": "markdown",
      "metadata": {
        "id": "rkCxQn_Zadb4"
      },
      "source": [
        "## Divisão de do Dataset em Treino e Teste"
      ]
    },
    {
      "cell_type": "code",
      "execution_count": null,
      "metadata": {
        "id": "OMTZGGm-vRJx"
      },
      "outputs": [],
      "source": [
        "#Train_X, Test_X, Train_Y, Test_Y = train_test_split(df_amostrado['texto_limpo_A'], df_amostrado['Sentimento'], test_size=0.25)\n"
      ]
    },
    {
      "cell_type": "code",
      "execution_count": null,
      "metadata": {
        "id": "kc4_tyAHawEi"
      },
      "outputs": [],
      "source": [
        "#Categorizando os Targets\n",
        "def data_pre_processing (X_train,X_test,y_train,y_test):\n",
        "  Encoder = LabelEncoder()\n",
        "  Train_Y = Encoder.fit_transform(y_train)\n",
        "  Test_Y = Encoder.fit_transform(y_test)\n",
        "  Train_X = vectorizer.transform(X_train)\n",
        "  Test_X = vectorizer.transform(X_test)\n",
        "  return Train_X, Test_X, Train_Y, Test_Y"
      ]
    },
    {
      "cell_type": "markdown",
      "metadata": {
        "id": "K-NwEc4lbzcZ"
      },
      "source": [
        "#SVM + BOW"
      ]
    },
    {
      "cell_type": "markdown",
      "metadata": {
        "id": "9fxr3u62u35d"
      },
      "source": [
        "## Definição, treinamento e parametros"
      ]
    },
    {
      "cell_type": "code",
      "execution_count": null,
      "metadata": {
        "colab": {
          "base_uri": "https://localhost:8080/"
        },
        "id": "cjWsO1voc2P7",
        "outputId": "4f5b2968-2849-4d89-fc11-846edc1b6808"
      },
      "outputs": [
        {
          "name": "stdout",
          "output_type": "stream",
          "text": [
            "Melhor Coluna: review\n",
            "Melhor Kernel: linear\n",
            "Melhor C: 15\n",
            "SVM Accuracy Score -> 88.43537414965986\n",
            "SVM F1 Score -> 88.38268792710706\n"
          ]
        }
      ],
      "source": [
        "df_bank = [df_amostrado,reviews_df]\n",
        "colunas = ['texto_limpo_A','texto_lematizado_A', 'review']\n",
        "accuracy = 0\n",
        "f1_Score = 0\n",
        "\n",
        "for df in df_bank:\n",
        "  for coluna in colunas:\n",
        "    # Preparar dados\n",
        "    X = df[coluna].values\n",
        "    y = df['Sentimento'].values\n",
        "    y = np.array(y, dtype=np.int32)\n",
        "    Train_X, Test_X, Train_Y, Test_Y = train_test_split(X, y, test_size=0.25, random_state=42)\n",
        "    Train_X_bow, Test_X_bow, Train_Y, Test_Y = data_pre_processing(Train_X, Test_X, Train_Y, Test_Y)\n",
        "    #kernels = ['poly','linear', 'sigmoid', 'rbf']\n",
        "    kernels = ['linear','sigmoid', 'rbf']\n",
        "    #C = [27]\n",
        "    C = [15,20,25,30]\n",
        "    degree = [2, 3 , 4]\n",
        "    d = 0\n",
        "    for kernel in kernels:\n",
        "      for c in C:\n",
        "        if kernel == 'poly':\n",
        "          for d in degree:\n",
        "            SVM = svm.SVC(C=c, kernel=kernel, degree=d, gamma='auto')\n",
        "            SVM.fit(Train_X_bow,Train_Y)\n",
        "            predictions_SVM = SVM.predict(Test_X_bow)\n",
        "            accuracy_tes = accuracy_score(predictions_SVM, Test_Y)*100\n",
        "            f1_Score_tes = f1_score(predictions_SVM, Test_Y)*100\n",
        "            if f1_Score_tes > f1_Score:\n",
        "              accuracy = accuracy_tes\n",
        "              f1_Score = f1_Score_tes\n",
        "              kernel_best = kernel\n",
        "              C_best = c\n",
        "              d_best = d\n",
        "        else:\n",
        "            SVM = svm.SVC(C=c, kernel=kernel, gamma='auto')\n",
        "            SVM.fit(Train_X_bow,Train_Y)\n",
        "            X,y = pipeline(test_df, coluna)\n",
        "            y_pred = SVM.predict(X)\n",
        "            accuracy_tes = accuracy_score(y_pred , y)*100\n",
        "            f1_Score_tes = f1_score(y_pred , y)*100\n",
        "            if f1_Score_tes > f1_Score:\n",
        "              accuracy = accuracy_tes\n",
        "              f1_Score = f1_Score_tes\n",
        "              kernel_best = kernel\n",
        "              C_best = c\n",
        "              d_best = d\n",
        "              best_df_svm_bow = df\n",
        "              best_coluna_svm_bow = coluna\n",
        "              best_predict = y_pred\n",
        "print(f'Melhor Coluna: {best_coluna_svm_bow}\\nMelhor Kernel: {kernel_best}\\nMelhor C: {C_best}\\nSVM Accuracy Score -> {accuracy}\\nSVM F1 Score -> {f1_Score}')"
      ]
    },
    {
      "cell_type": "markdown",
      "metadata": {
        "id": "_Z6NZTeUu2WZ"
      },
      "source": [
        "##Resultados"
      ]
    },
    {
      "cell_type": "code",
      "execution_count": null,
      "metadata": {
        "colab": {
          "base_uri": "https://localhost:8080/"
        },
        "id": "DrIUq_OtdF0S",
        "outputId": "1a805fb5-2600-4e7b-d928-53e958c9a8c3"
      },
      "outputs": [
        {
          "name": "stdout",
          "output_type": "stream",
          "text": [
            "SVM Accuracy Score -> 88.43537414965986\n",
            "SVM F1 Score -> 88.38268792710706\n"
          ]
        }
      ],
      "source": [
        "svm_bow_acu = accuracy\n",
        "svm_bow_f1 = f1_Score\n",
        "print(f'SVM Accuracy Score -> {accuracy}\\nSVM F1 Score -> {f1_Score}')"
      ]
    },
    {
      "cell_type": "markdown",
      "metadata": {
        "id": "Gbgggupwu04a"
      },
      "source": [
        "## Inspecionando os Resultados"
      ]
    },
    {
      "cell_type": "code",
      "execution_count": null,
      "metadata": {
        "colab": {
          "base_uri": "https://localhost:8080/"
        },
        "id": "IR-_OPsir8qx",
        "outputId": "d4fc341e-ed20-45cf-d448-f3951be0d768"
      },
      "outputs": [
        {
          "name": "stdout",
          "output_type": "stream",
          "text": [
            "As 10 primeiras avaliações que o modelo considerou como negativas:\n",
            "\n",
            "\n",
            "1 Avaliação: review                My kindle would not turn on after 2 weeks of u...\n",
            "rating                                                              2.0\n",
            "Sentimento                                                            1\n",
            "texto_lematizado_A    my kindle would not turn on after 2 week of us...\n",
            "texto_limpo_A         kindle would turn 2 week use tech could fix se...\n",
            "Name: 1, dtype: object\n",
            "\n",
            "3 Avaliação: review                La mejor opción para leer... ademas de toda la...\n",
            "rating                                                              2.0\n",
            "Sentimento                                                            1\n",
            "texto_lematizado_A    La mejor opción para leer ... ademas de toda l...\n",
            "texto_limpo_A         La mejor opción para leer ... ademas de toda l...\n",
            "Name: 3, dtype: object\n",
            "\n",
            "4 Avaliação: review                I am goi to LOVE my Kindle Paperwhite e-reader...\n",
            "rating                                                              3.0\n",
            "Sentimento                                                            1\n",
            "texto_lematizado_A    I be goi to love my Kindle Paperwhite e - read...\n",
            "texto_limpo_A         goi love Kindle Paperwhite e reader 11th gener...\n",
            "Name: 4, dtype: object\n",
            "\n",
            "8 Avaliação: review                A waste of money. This is not ideal for your t...\n",
            "rating                                                              3.0\n",
            "Sentimento                                                            1\n",
            "texto_lematizado_A    a waste of money . this be not ideal for your ...\n",
            "texto_limpo_A         waste money ideal teen Amazon allow kid regist...\n",
            "Name: 8, dtype: object\n",
            "\n",
            "9 Avaliação: review                Sister loved it! Holds the battery life great ...\n",
            "rating                                                              3.0\n",
            "Sentimento                                                            1\n",
            "texto_lematizado_A    Sister love it ! hold the battery life great a...\n",
            "texto_limpo_A          sister love hold battery life great light weight\n",
            "Name: 9, dtype: object\n",
            "\n",
            "10 Avaliação: review                Started locking up, random shutdown and strang...\n",
            "rating                                                              2.0\n",
            "Sentimento                                                            1\n",
            "texto_lematizado_A    start lock up , random shutdown and strange er...\n",
            "texto_limpo_A         start lock random shutdown strange error messa...\n",
            "Name: 10, dtype: object\n",
            "\n",
            "15 Avaliação: review                I bought the kindle to save my eyes because I ...\n",
            "rating                                                              1.0\n",
            "Sentimento                                                            1\n",
            "texto_lematizado_A    I buy the kindle to save my eye because I read...\n",
            "texto_limpo_A         buy kindle save eye read many hour day phone d...\n",
            "Name: 15, dtype: object\n",
            "\n",
            "16 Avaliação: review                I have been an adopter of Amazon ecosystem fro...\n",
            "rating                                                              3.0\n",
            "Sentimento                                                            1\n",
            "texto_lematizado_A    I have be an adopter of Amazon ecosystem from ...\n",
            "texto_limpo_A         adopter Amazon ecosystem original releaso kind...\n",
            "Name: 16, dtype: object\n",
            "\n",
            "18 Avaliação: review                I'm not impressed with this Kindle version. Ha...\n",
            "rating                                                              1.0\n",
            "Sentimento                                                            1\n",
            "texto_lematizado_A    I be not impressed with this Kindle version . ...\n",
            "texto_limpo_A         impressed Kindle version terrible time locate ...\n",
            "Name: 18, dtype: object\n",
            "\n",
            "19 Avaliação: review                The unobtrusive glow of the backlight makes fo...\n",
            "rating                                                              3.0\n",
            "Sentimento                                                            1\n",
            "texto_lematizado_A    the unobtrusive glow of the backlight make for...\n",
            "texto_limpo_A         unobtrusive glow backlight make comfortable re...\n",
            "Name: 19, dtype: object\n",
            "\n"
          ]
        }
      ],
      "source": [
        "# Encontra os índices dos 10 primeiras avaliações negativas\n",
        "n= 10\n",
        "indices = [i for i in range(len(best_predict)) if best_predict[i] == 1][:n]\n",
        "df = test_df.reset_index(drop=True)\n",
        "print(f'As {n} primeiras avaliações que o modelo considerou como negativas:\\n\\n')\n",
        "for i in indices:\n",
        "  print(f'{i} Avaliação: {df.iloc[i]}\\n')"
      ]
    },
    {
      "cell_type": "markdown",
      "metadata": {
        "id": "NLXBO3iVvXsf"
      },
      "source": [
        "#Embedding"
      ]
    },
    {
      "cell_type": "code",
      "execution_count": null,
      "metadata": {
        "id": "UxfR4wymqla-"
      },
      "outputs": [],
      "source": [
        "# Pré-processamento textual antes de treinar o modelo Word2Vec\n",
        "\n",
        "# tokenizador de sentença do nltk\n",
        "\n",
        "tokenized_sents = [word_tokenize(i) for i in df_amostrado['review'].values]"
      ]
    },
    {
      "cell_type": "code",
      "execution_count": null,
      "metadata": {
        "id": "DjvO8_MAxURq"
      },
      "outputs": [],
      "source": [
        "vector_size=50\n",
        "model_review = Word2Vec(tokenized_sents, vector_size=vector_size, window=5, min_count=1, workers=4)"
      ]
    },
    {
      "cell_type": "code",
      "execution_count": null,
      "metadata": {
        "id": "fuw1WTy5y6xE"
      },
      "outputs": [],
      "source": [
        "Train_X, Test_X, Train_Y, Test_Y  = train_test_split(df_amostrado['review'],df_amostrado['Sentimento'],test_size=0.25)"
      ]
    },
    {
      "cell_type": "code",
      "execution_count": null,
      "metadata": {
        "colab": {
          "base_uri": "https://localhost:8080/"
        },
        "id": "-LLWqMstxgdE",
        "outputId": "369f67c4-e33d-48a6-a668-803641ddb54e"
      },
      "outputs": [
        {
          "name": "stdout",
          "output_type": "stream",
          "text": [
            "max_len: 2219\n"
          ]
        }
      ],
      "source": [
        "# Verificando o tamanho máximo do texto não estruturado (review)\n",
        "Train_X_emb = []\n",
        "max_len = 0\n",
        "\n",
        "for i, row in Train_X.to_frame().iterrows():\n",
        "  vetores = model_review.wv[word_tokenize(row['review'])]\n",
        "  max_len = max(max_len, len(vetores))\n",
        "  Train_X_emb.append(vetores)\n",
        "\n",
        "Test_X_emb = []\n",
        "for i, row in Test_X.to_frame().iterrows():\n",
        "  vetores = model_review.wv[word_tokenize(row['review'])]\n",
        "  max_len = max(max_len, len(vetores))\n",
        "  Test_X_emb.append(vetores)\n",
        "\n",
        "print(\"max_len: {}\".format(max_len))"
      ]
    },
    {
      "cell_type": "code",
      "execution_count": null,
      "metadata": {
        "id": "LcTW0i46iFLi"
      },
      "outputs": [],
      "source": [
        "#Categorizando os Targets\n",
        "Train_Y = np.array(Train_Y).astype(\"float32\")\n",
        "Test_Y = np.array(Test_Y).astype(\"float32\")\n",
        "Encoder = LabelEncoder()\n",
        "Train_Y = Encoder.fit_transform(Train_Y)\n",
        "Test_Y = Encoder.fit_transform(Test_Y)"
      ]
    },
    {
      "cell_type": "code",
      "execution_count": null,
      "metadata": {
        "id": "7vFS4CVyyobb"
      },
      "outputs": [],
      "source": [
        "# Devemos utilizar um padding para padronizar o tamanho das nossas reviews em max_len.\n",
        "# Isso é necessário para fazer o treino da rede neural\n",
        "\n",
        "def transform(exemplos, dimension):\n",
        "  results = np.zeros((len(exemplos), dimension, vector_size))\n",
        "  for i, sequence in enumerate(exemplos):\n",
        "    results[i, :len(sequence), :] = sequence\n",
        "  return results\n",
        " \n",
        "Train_X_emb = transform(Train_X_emb, max_len)\n",
        "Test_X_emb = transform(Test_X_emb, max_len)"
      ]
    },
    {
      "cell_type": "code",
      "execution_count": null,
      "metadata": {
        "colab": {
          "base_uri": "https://localhost:8080/"
        },
        "id": "TlBW5aE3z6vb",
        "outputId": "db2bc3a6-6a43-41cd-c38b-c67e62f5583b"
      },
      "outputs": [
        {
          "name": "stdout",
          "output_type": "stream",
          "text": [
            "Shape dados de Treino: (627, 2219, 50)\n",
            "Shape Target de Treino: (627,)\n",
            "Shape dados de Teste: (209, 2219, 50)\n",
            "Shape Target de Teste: (209,)\n"
          ]
        }
      ],
      "source": [
        "print(f'Shape dados de Treino: {Train_X_emb.shape}\\nShape Target de Treino: {Train_Y.shape}\\nShape dados de Teste: {Test_X_emb.shape}\\nShape Target de Teste: {Test_Y.shape}')"
      ]
    },
    {
      "cell_type": "code",
      "execution_count": null,
      "metadata": {
        "id": "oqSE_WewB3zV"
      },
      "outputs": [],
      "source": [
        "def pipeline_emb(df,max_len=max_len):\n",
        "  tokenized_sents = [word_tokenize(i) for i in df[\"review\"].values]\n",
        "  vector_size=50\n",
        "  model_review = Word2Vec(tokenized_sents, vector_size=vector_size, window=5, min_count=1, workers=4) \n",
        "  X = df[\"review\"]\n",
        "  y = df[\"Sentimento\"].values\n",
        "  y = np.array(y).astype(\"float32\")\n",
        "  Encoder = LabelEncoder()\n",
        "  y = Encoder.fit_transform(y)\n",
        "  Train_X_emb = []\n",
        "  max_len = 0 \n",
        "  for i, row in X.to_frame().iterrows():\n",
        "    vetores = model_review.wv[word_tokenize(row[\"review\"])]\n",
        "    max_len = max(max_len, len(vetores))\n",
        "    Train_X_emb.append(vetores)\n",
        "    X = transform(Train_X_emb, max_len)\n",
        "    X = X.reshape(X.shape[0], -1)\n",
        "  return X, y\n",
        "  X_test, y_test = pipeline_emb(test_df,max_len=max_len)"
      ]
    },
    {
      "cell_type": "markdown",
      "metadata": {
        "id": "zisSrHg-tltb"
      },
      "source": [
        "# SVM + EMBEDDING"
      ]
    },
    {
      "cell_type": "markdown",
      "metadata": {
        "id": "NceO0to5zNVK"
      },
      "source": [
        "## Definição, treinamento e parametros"
      ]
    },
    {
      "cell_type": "code",
      "execution_count": null,
      "metadata": {
        "colab": {
          "base_uri": "https://localhost:8080/"
        },
        "id": "A9S4dBk9EUWr",
        "outputId": "c4e4c219-691f-45a6-a70a-58425374f11a"
      },
      "outputs": [
        {
          "name": "stdout",
          "output_type": "stream",
          "text": [
            "Melhor Kernel: linear\n",
            "Melhor C: 10\n",
            "SVM Accuracy Score -> 78.2312925170068\n",
            "SVM F1 Score -> 80.95238095238096\n"
          ]
        }
      ],
      "source": [
        "# Criar modelo SVM\n",
        "kernels = ['poly', 'linear', 'sigmoid', 'rbf']\n",
        "C = [10, 30, 50, 70]\n",
        "degree = [2, 3 , 4, 5]\n",
        "accuracy = 0\n",
        "f1_Score = 0\n",
        "Train_X_emb = Train_X_emb.reshape(Train_X_emb.shape[0], -1)\n",
        "Test_X_emb = Test_X_emb.reshape(Test_X_emb.shape[0], -1)\n",
        "for kernel in kernels:\n",
        " for c in C:\n",
        "   if kernel == 'poly':\n",
        "    for d in degree:\n",
        "      SVM = svm.SVC(C=c, kernel=kernel, degree=d, gamma='auto')\n",
        "      SVM.fit(Train_X_emb, Train_Y)\n",
        "      y_pred = SVM.predict(X_test)\n",
        "      accuracy_tes = accuracy_score(y_pred , y_test)*100\n",
        "      f1_Score_tes = f1_score(y_pred , y_test)*100\n",
        "      if f1_Score_tes > f1_Score:\n",
        "        accuracy = accuracy_tes\n",
        "        f1_Score = f1_Score_tes\n",
        "        kernel_best = kernel\n",
        "        C_best = c\n",
        "        d_best = d\n",
        "        best_predict = y_pred\n",
        "   else:\n",
        "      SVM = svm.SVC(C=c, kernel=kernel, gamma='auto')\n",
        "      SVM.fit(Train_X_emb, Train_Y)\n",
        "      y_pred = SVM.predict(X_test)\n",
        "      accuracy_tes = accuracy_score(y_pred , y_test)*100\n",
        "      f1_Score_tes = f1_score(y_pred , y_test)*100\n",
        "      if f1_Score_tes > f1_Score:\n",
        "        accuracy = accuracy_tes\n",
        "        f1_Score = f1_Score_tes\n",
        "        kernel_best = kernel\n",
        "        C_best = c\n",
        "        d_best = d\n",
        "        best_predict = y_pred\n",
        "print(f'Melhor Kernel: {kernel_best}\\nMelhor C: {C_best}\\nSVM Accuracy Score -> {accuracy}\\nSVM F1 Score -> {f1_Score}')"
      ]
    },
    {
      "cell_type": "markdown",
      "metadata": {
        "id": "tew6QcgczQWY"
      },
      "source": [
        "##Resultados"
      ]
    },
    {
      "cell_type": "code",
      "execution_count": null,
      "metadata": {
        "colab": {
          "base_uri": "https://localhost:8080/"
        },
        "id": "k0jQgcMQdAQZ",
        "outputId": "07c132d5-696a-4ed8-9269-183356095288"
      },
      "outputs": [
        {
          "name": "stdout",
          "output_type": "stream",
          "text": [
            "SVM Accuracy Score -> 78.2312925170068\n",
            "SVM F1 Score -> 80.95238095238096\n"
          ]
        }
      ],
      "source": [
        "svm_emb_acu = accuracy\n",
        "svm_emn_f1 = f1_Score\n",
        "print(f'SVM Accuracy Score -> {accuracy}\\nSVM F1 Score -> {f1_Score}')"
      ]
    },
    {
      "cell_type": "markdown",
      "metadata": {
        "id": "Y-PRv7NaEBPM"
      },
      "source": [
        "## Inspecionando os Resultados"
      ]
    },
    {
      "cell_type": "code",
      "execution_count": null,
      "metadata": {
        "colab": {
          "base_uri": "https://localhost:8080/"
        },
        "id": "4MGpWYQTBNaH",
        "outputId": "d9e0fece-f4fd-44e6-b2c8-a723339be46f"
      },
      "outputs": [
        {
          "name": "stdout",
          "output_type": "stream",
          "text": [
            "As 10 primeiras avaliações que o modelo considerou como negativas:\n",
            "\n",
            "\n",
            "1 Avaliação: review                My kindle would not turn on after 2 weeks of u...\n",
            "rating                                                              2.0\n",
            "Sentimento                                                            1\n",
            "texto_lematizado_A    my kindle would not turn on after 2 week of us...\n",
            "texto_limpo_A         kindle would turn 2 week use tech could fix se...\n",
            "Name: 1, dtype: object\n",
            "\n",
            "2 Avaliação: review                Reduced to one star for review manipulation by...\n",
            "rating                                                              3.0\n",
            "Sentimento                                                            1\n",
            "texto_lematizado_A    reduce to one star for review manipulation by ...\n",
            "texto_limpo_A         reduce one star review manipulation Amazon rea...\n",
            "Name: 2, dtype: object\n",
            "\n",
            "3 Avaliação: review                La mejor opción para leer... ademas de toda la...\n",
            "rating                                                              2.0\n",
            "Sentimento                                                            1\n",
            "texto_lematizado_A    La mejor opción para leer ... ademas de toda l...\n",
            "texto_limpo_A         La mejor opción para leer ... ademas de toda l...\n",
            "Name: 3, dtype: object\n",
            "\n",
            "4 Avaliação: review                I am goi to LOVE my Kindle Paperwhite e-reader...\n",
            "rating                                                              3.0\n",
            "Sentimento                                                            1\n",
            "texto_lematizado_A    I be goi to love my Kindle Paperwhite e - read...\n",
            "texto_limpo_A         goi love Kindle Paperwhite e reader 11th gener...\n",
            "Name: 4, dtype: object\n",
            "\n",
            "5 Avaliação: review                I had to replace my old kindle, this Kindle is...\n",
            "rating                                                              1.0\n",
            "Sentimento                                                            1\n",
            "texto_lematizado_A    I have to replace my old kindle , this Kindle ...\n",
            "texto_limpo_A         replace old kindle Kindle big large print nice...\n",
            "Name: 5, dtype: object\n",
            "\n",
            "6 Avaliação: review                I really liked the older kindle paperwhites. T...\n",
            "rating                                                              5.0\n",
            "Sentimento                                                            0\n",
            "texto_lematizado_A    I really like the old kindle paperwhite . the ...\n",
            "texto_limpo_A         really like old kindle paperwhite screen easy ...\n",
            "Name: 6, dtype: object\n",
            "\n",
            "7 Avaliação: review                Like the kindle paperwhite but difficult to le...\n",
            "rating                                                              5.0\n",
            "Sentimento                                                            0\n",
            "texto_lematizado_A    like the kindle paperwhite but difficult to le...\n",
            "texto_limpo_A         like kindle paperwhite difficult learn without...\n",
            "Name: 7, dtype: object\n",
            "\n",
            "8 Avaliação: review                A waste of money. This is not ideal for your t...\n",
            "rating                                                              3.0\n",
            "Sentimento                                                            1\n",
            "texto_lematizado_A    a waste of money . this be not ideal for your ...\n",
            "texto_limpo_A         waste money ideal teen Amazon allow kid regist...\n",
            "Name: 8, dtype: object\n",
            "\n",
            "9 Avaliação: review                Sister loved it! Holds the battery life great ...\n",
            "rating                                                              3.0\n",
            "Sentimento                                                            1\n",
            "texto_lematizado_A    Sister love it ! hold the battery life great a...\n",
            "texto_limpo_A          sister love hold battery life great light weight\n",
            "Name: 9, dtype: object\n",
            "\n",
            "10 Avaliação: review                Started locking up, random shutdown and strang...\n",
            "rating                                                              2.0\n",
            "Sentimento                                                            1\n",
            "texto_lematizado_A    start lock up , random shutdown and strange er...\n",
            "texto_limpo_A         start lock random shutdown strange error messa...\n",
            "Name: 10, dtype: object\n",
            "\n"
          ]
        }
      ],
      "source": [
        "# Encontra os índices dos 10 primeiras avaliações negativas\n",
        "n= 10\n",
        "indices = [i for i in range(len(best_predict)) if best_predict[i] == 1][:n]\n",
        "df = test_df.reset_index(drop=True)\n",
        "print(f'As {n} primeiras avaliações que o modelo considerou como negativas:\\n\\n')\n",
        "for i in indices:\n",
        "  print(f'{i} Avaliação: {df.iloc[i]}\\n')"
      ]
    },
    {
      "cell_type": "markdown",
      "metadata": {
        "id": "22qlsWuZdWvn"
      },
      "source": [
        "#Resumo Resultado Final"
      ]
    },
    {
      "cell_type": "code",
      "execution_count": 14,
      "metadata": {
        "id": "fcsCfY_01tVt"
      },
      "outputs": [],
      "source": [
        "bert_acu =  64.11483253588517\n",
        "bert_f1 = 77.81065088757396"
      ]
    },
    {
      "cell_type": "code",
      "execution_count": 15,
      "metadata": {
        "id": "vQgUg1b4dWS9"
      },
      "outputs": [],
      "source": [
        "modelos = {'Modelo': ['Modelo SVM + BOW', 'Modelo SVM + EMBEDDING', 'BERT'],\n",
        "        'Acurácia': [round(svm_bow_acu, 2), round(svm_emb_acu, 2), round(bert_acu, 2)],\n",
        "        'F1-score': [round(svm_bow_f1, 2), round(svm_emb_f1, 2), round(bert_f1, 2)]}"
      ]
    },
    {
      "cell_type": "code",
      "execution_count": 16,
      "metadata": {
        "colab": {
          "base_uri": "https://localhost:8080/",
          "height": 406
        },
        "id": "iSEl4un_sb3a",
        "outputId": "3a393cbf-a60a-42c3-d4cd-cec587dfc7e9"
      },
      "outputs": [
        {
          "output_type": "display_data",
          "data": {
            "text/plain": [
              "<Figure size 640x480 with 1 Axes>"
            ],
            "image/png": "[encoded data removed]"
          },
          "metadata": {}
        }
      ],
      "source": [
        "# Criar um dataframe com as informações dos modelos\n",
        "df = pd.DataFrame(modelos)\n",
        "\n",
        "# Criar uma tabela visual com as informações dos modelos\n",
        "fig, ax = plt.subplots()\n",
        "ax.axis('off')\n",
        "ax.axis('tight')\n",
        "ax.table(cellText=df.values, colLabels=df.columns, loc='center')\n",
        "plt.show()"
      ]
    }
  ],
  "metadata": {
    "accelerator": "GPU",
    "colab": {
      "collapsed_sections": [
        "i4eQQ4Acr494",
        "Bwc0wFL6taWk",
        "IMtbE9pRtgXz",
        "hqOmMGhjvVQD",
        "AGvZoWGPaXBD",
        "PfcTYVKxtYz8",
        "K-NwEc4lbzcZ",
        "NLXBO3iVvXsf",
        "zisSrHg-tltb"
      ],
      "machine_shape": "hm",
      "toc_visible": true,
      "provenance": []
    },
    "gpuClass": "standard",
    "kernelspec": {
      "display_name": "Python 3",
      "name": "python3"
    },
    "language_info": {
      "name": "python"
    }
  },
  "nbformat": 4,
  "nbformat_minor": 0
}